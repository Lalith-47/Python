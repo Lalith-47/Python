{
 "cells": [
  {
   "cell_type": "code",
   "execution_count": 1,
   "id": "d948adee-bcee-4ee0-9480-328e05a2844d",
   "metadata": {},
   "outputs": [
    {
     "name": "stdin",
     "output_type": "stream",
     "text": [
      "Enter the value:  5\n"
     ]
    },
    {
     "name": "stdout",
     "output_type": "stream",
     "text": [
      "Factorial of 5 is 120\n"
     ]
    }
   ],
   "source": [
    "def fact(a):\n",
    "    if  a<=1:\n",
    "        return a\n",
    "    return a*fact(a-1)\n",
    "\n",
    "a=int(input(\"Enter the value: \"))\n",
    "print('Factorial of',a,'is' ,fact(a))\n"
   ]
  },
  {
   "cell_type": "code",
   "execution_count": null,
   "id": "c82ae245-d5ab-4f12-b4e1-338640dea84d",
   "metadata": {},
   "outputs": [],
   "source": []
  }
 ],
 "metadata": {
  "kernelspec": {
   "display_name": "Python 3 (ipykernel)",
   "language": "python",
   "name": "python3"
  },
  "language_info": {
   "codemirror_mode": {
    "name": "ipython",
    "version": 3
   },
   "file_extension": ".py",
   "mimetype": "text/x-python",
   "name": "python",
   "nbconvert_exporter": "python",
   "pygments_lexer": "ipython3",
   "version": "3.13.2"
  }
 },
 "nbformat": 4,
 "nbformat_minor": 5
}
